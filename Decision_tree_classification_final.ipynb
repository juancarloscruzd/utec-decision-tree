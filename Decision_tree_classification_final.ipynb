{
  "nbformat": 4,
  "nbformat_minor": 5,
  "metadata": {
    "kernelspec": {
      "display_name": "Python 3",
      "language": "python",
      "name": "python3"
    },
    "language_info": {
      "codemirror_mode": {
        "name": "ipython",
        "version": 3
      },
      "file_extension": ".py",
      "mimetype": "text/x-python",
      "name": "python",
      "nbconvert_exporter": "python",
      "pygments_lexer": "ipython3",
      "version": "3.8.8"
    },
    "colab": {
      "name": "Decision tree classification final.ipynb",
      "provenance": [],
      "collapsed_sections": []
    }
  },
  "cells": [
    {
      "cell_type": "markdown",
      "metadata": {
        "id": "f3CKZ6SZNHlL"
      },
      "source": [
        "## Setup de librerías y datos"
      ],
      "id": "f3CKZ6SZNHlL"
    },
    {
      "cell_type": "code",
      "metadata": {
        "id": "601edae9"
      },
      "source": [
        "import numpy as np\n",
        "import random\n",
        "import pandas as pd\n",
        "import matplotlib.pyplot as plt\n",
        "\n",
        "from sklearn.model_selection import train_test_split\n",
        "from sklearn.metrics import confusion_matrix\n",
        "from sklearn.metrics import confusion_matrix, ConfusionMatrixDisplay\n",
        "from scipy import stats\n",
        "\n",
        "random.seed(10)"
      ],
      "id": "601edae9",
      "execution_count": null,
      "outputs": []
    },
    {
      "cell_type": "code",
      "metadata": {
        "id": "eaybZzVsXe1g",
        "colab": {
          "base_uri": "https://localhost:8080/"
        },
        "outputId": "3f745978-e4ee-464e-eadb-2f8c8daee106"
      },
      "source": [
        "from google.colab import drive\n",
        "drive.mount('/content/drive')"
      ],
      "id": "eaybZzVsXe1g",
      "execution_count": null,
      "outputs": [
        {
          "output_type": "stream",
          "name": "stdout",
          "text": [
            "Drive already mounted at /content/drive; to attempt to forcibly remount, call drive.mount(\"/content/drive\", force_remount=True).\n"
          ]
        }
      ]
    },
    {
      "cell_type": "code",
      "metadata": {
        "id": "FPZ56a8kXmqb"
      },
      "source": [
        "col_names = ['sepal_length', 'sepal_width', 'petal_length', 'petal_width', 'type']\n",
        "data = pd.read_csv(\"/content/drive/MyDrive/machine-learning/iris.csv\", skiprows=1, header=None, names=col_names)"
      ],
      "id": "FPZ56a8kXmqb",
      "execution_count": null,
      "outputs": []
    },
    {
      "cell_type": "code",
      "metadata": {
        "id": "3257a226"
      },
      "source": [
        "train, validation = train_test_split(data,test_size=0.3, random_state=1)"
      ],
      "id": "3257a226",
      "execution_count": null,
      "outputs": []
    },
    {
      "cell_type": "markdown",
      "metadata": {
        "id": "yv6kYIwJNCX_"
      },
      "source": [
        "## Funciones"
      ],
      "id": "yv6kYIwJNCX_"
    },
    {
      "cell_type": "code",
      "metadata": {
        "id": "5f5da3e0"
      },
      "source": [
        "# funciones para comparacion\n",
        "def gini(clase):\n",
        "    class_label = np.unique(clase)\n",
        "    dict1 = {}\n",
        "    val_gini = 0\n",
        "    n=len(clase)\n",
        "    for i in class_label:\n",
        "        dict1[i]=np.round(np.sum(clase==i)/n,2)\n",
        "        val_gini += dict1[i]*(1-dict1[i])\n",
        "    return dict1,np.round(val_gini,3)\n",
        "\n",
        "def entropy(clase):\n",
        "    class_label = np.unique(clase)\n",
        "    dict1 = {}\n",
        "    entropy = 0\n",
        "    n=len(clase)\n",
        "    for i in class_label:\n",
        "        dict1[i]=np.round(np.sum(clase==i)/n,2)\n",
        "        entropy += -dict1[i] * np.log2(dict1[i])    \n",
        "    return dict1,np.round(entropy,3)\n",
        "    \n",
        "    "
      ],
      "id": "5f5da3e0",
      "execution_count": null,
      "outputs": []
    },
    {
      "cell_type": "code",
      "metadata": {
        "id": "e4072452"
      },
      "source": [
        "def min_feature(dic1):\n",
        "    min_val=2\n",
        "    min_clase = \"\"\n",
        "    for i in dic:\n",
        "        if dic[i][-1]<min_val:\n",
        "            min_val=dic[i][-1]\n",
        "            min_clase = i\n",
        "            mean_val = dic[i][0]\n",
        "    return min_clase,min_val,mean_val"
      ],
      "id": "e4072452",
      "execution_count": null,
      "outputs": []
    },
    {
      "cell_type": "code",
      "metadata": {
        "id": "iog-vpCciRfG"
      },
      "source": [
        "def best_split_mean(data, method='gini'):\n",
        "  columns = data.columns[0:data.shape[1]-1]\n",
        "  min_gini_feature = 2\n",
        "  min_class = \"\"\n",
        "  result = {}\n",
        "\n",
        "  gini_pond = 0\n",
        "  index_der = []\n",
        "  index_izq = []\n",
        "  threshold = 0\n",
        "\n",
        "  for c in columns:\n",
        "    #Se divide la muestra en dos partes\n",
        "    train_izq = data[data[c] <= data[c].mean()]\n",
        "    train_der = data[data[c] > data[c].mean()]\n",
        "\n",
        "    if (method=='gini'):\n",
        "        #Se calcula el gini para cada parte\n",
        "        indice_izq = gini(train_izq[\"type\"])\n",
        "        indice_der =gini(train_der[\"type\"])\n",
        "    else:\n",
        "        #Se calcula la entropia para cada parte\n",
        "        indice_izq = entropy(train_izq[\"type\"])\n",
        "        indice_der = entropy(train_der[\"type\"])        \n",
        "\n",
        "    gini_izq_n = train_izq.shape[0]\n",
        "    gini_der_n = train_der.shape[0]\n",
        "    gini_tot = gini_izq_n + gini_der_n\n",
        "\n",
        "    #Se calcula los pesos para el gini ponderado\n",
        "    w_izq = gini_izq_n/gini_tot\n",
        "    w_der = gini_der_n/gini_tot\n",
        "\n",
        "    #Se calcula el gini ponderado\n",
        "    gini_pon = np.round(indice_izq[-1]*w_izq + indice_der[-1]*w_der,3)\n",
        "\n",
        "    if gini_pon < min_gini_feature:\n",
        "      min_gini_feature = gini_pon\n",
        "      index_der = train_der.index\n",
        "      index_izq = train_izq.index\n",
        "      min_class = c\n",
        "      threshold = data[c].mean()\n",
        "\n",
        "  result[min_class] = {\"ponderado\": min_gini_feature, \"threshold\": threshold, \"index_der\": index_der, \"index_izq\": index_izq }\n",
        "\n",
        "  return min_class, result"
      ],
      "id": "iog-vpCciRfG",
      "execution_count": null,
      "outputs": []
    },
    {
      "cell_type": "code",
      "metadata": {
        "id": "1EZ2Hnf8a84t"
      },
      "source": [
        "def best_split(data, method='gini'):\n",
        "  columns = data.columns[0:data.shape[1]-1]\n",
        "  min_gini_feature = 2\n",
        "  min_class = \"\"\n",
        "  result = {}\n",
        "\n",
        "  gini_pond = 0\n",
        "  index_der = []\n",
        "  index_izq = []\n",
        "  threshold = 0\n",
        "\n",
        "  for c in columns:\n",
        "    #Se toman todos los puntos \n",
        "    dots = np.unique(data[c])\n",
        "    for d in dots: #probamos con todos los puntos para incrementar el accuracy\n",
        "      #Se divide la muestra en dos partes\n",
        "      train_izq = data[data[c] <= d]\n",
        "      train_der = data[data[c] > d]\n",
        "\n",
        "      if (method=='gini'):\n",
        "          #Se calcula el gini para cada parte\n",
        "          indice_izq = gini(train_izq[\"type\"])\n",
        "          indice_der =gini(train_der[\"type\"])\n",
        "      else:\n",
        "          #Se calcula la entropia para cada parte\n",
        "          indice_izq = entropy(train_izq[\"type\"])\n",
        "          indice_der = entropy(train_der[\"type\"])        \n",
        "\n",
        "      gini_izq_n = train_izq.shape[0]\n",
        "      gini_der_n = train_der.shape[0]\n",
        "      gini_tot = gini_izq_n + gini_der_n\n",
        "\n",
        "      #Se calcula los pesos para el gini ponderado\n",
        "      w_izq = gini_izq_n/gini_tot\n",
        "      w_der = gini_der_n/gini_tot\n",
        "\n",
        "      #Se calcula el gini ponderado\n",
        "      gini_pon = np.round(indice_izq[-1]*w_izq + indice_der[-1]*w_der,3)\n",
        "\n",
        "      if gini_pon < min_gini_feature:\n",
        "        min_gini_feature = gini_pon\n",
        "        index_der = train_der.index\n",
        "        index_izq = train_izq.index\n",
        "        threshold = d\n",
        "        min_class = c\n",
        "\n",
        "  result[min_class] = {\"ponderado\": min_gini_feature, \"threshold\": threshold, \"index_der\": index_der, \"index_izq\": index_izq }\n",
        "\n",
        "  return min_class, result"
      ],
      "id": "1EZ2Hnf8a84t",
      "execution_count": null,
      "outputs": []
    },
    {
      "cell_type": "code",
      "metadata": {
        "id": "0S_9otiQEU0D"
      },
      "source": [
        "# Diccionario con nodos finales\n",
        "def nodosFin(lista):\n",
        "    dict1 = {}\n",
        "    for i in lista:\n",
        "        if(i[0] != \"NoIdent\"):\n",
        "            dict1[i[1][0] + i[-1]] = i[0]\n",
        "    return dict1\n",
        "\n",
        "# Todos del arbol\n",
        "def allCortes(lista):\n",
        "    dict2 = {}\n",
        "    for i in lista:\n",
        "        if i[1][0] not in dict2:\n",
        "            dict2[i[1][0]] = [ i[1][1], i[1][2] ]\n",
        "\n",
        "    return dict2"
      ],
      "id": "0S_9otiQEU0D",
      "execution_count": null,
      "outputs": []
    },
    {
      "cell_type": "code",
      "metadata": {
        "id": "8uou6l8hjyQ-"
      },
      "source": [
        "def build_tree_mean(data, index, resultLst =[], depth = 0, direction = 'root', directions = '', method = 'gini' ):\n",
        "\n",
        "  labels = np.unique(data.loc[index][\"type\"])\n",
        "\n",
        "  if (len(labels) > 1):\n",
        "    directions =  directions + direction\n",
        "    bs_class, bs_data = best_split_mean(data.loc[index], method)\n",
        "    reSplit = [directions, bs_class, bs_data[bs_class]['threshold']]\n",
        "                \n",
        "    left_indexes = bs_data[bs_class][\"index_izq\"]\n",
        "    resultL = build_tree(data, left_indexes, resultLst, depth+1, 'L', directions)\n",
        "               \n",
        "    right_indexes = bs_data[bs_class][\"index_der\"]    \n",
        "    resultR = build_tree(data, right_indexes, resultLst, depth+1,'R', directions)\n",
        "    \n",
        "    if resultL == None:\n",
        "        resultL = \"NoIdent\"\n",
        "\n",
        "    if resultR == None:\n",
        "        resultR = \"NoIdent\"        \n",
        "        \n",
        "    resultLst.insert(0, [resultR, reSplit, \"R\"])        \n",
        "    resultLst.insert(0, [resultL, reSplit, \"L\"])\n",
        "               \n",
        "  else:\n",
        "    return labels[0]"
      ],
      "id": "8uou6l8hjyQ-",
      "execution_count": null,
      "outputs": []
    },
    {
      "cell_type": "code",
      "metadata": {
        "id": "_SpWzjbSgmIL"
      },
      "source": [
        "def build_tree(data, index, resultLst =[], depth = 0, direction = 'root', directions = '', method = 'gini' ):\n",
        "\n",
        "  labels = np.unique(data.loc[index][\"type\"])\n",
        "\n",
        "  if (len(labels) > 1):\n",
        "    directions =  directions + direction\n",
        "    bs_class, bs_data = best_split(data.loc[index], method)\n",
        "    reSplit = [directions, bs_class, bs_data[bs_class]['threshold']]\n",
        "                \n",
        "    left_indexes = bs_data[bs_class][\"index_izq\"]\n",
        "    resultL = build_tree(data, left_indexes, resultLst, depth+1, 'L', directions)\n",
        "               \n",
        "    right_indexes = bs_data[bs_class][\"index_der\"]    \n",
        "    resultR = build_tree(data, right_indexes, resultLst, depth+1,'R', directions)\n",
        "    \n",
        "    if resultL == None:\n",
        "        resultL = \"NoIdent\"\n",
        "\n",
        "    if resultR == None:\n",
        "        resultR = \"NoIdent\"        \n",
        "        \n",
        "    resultLst.insert(0, [resultR, reSplit, \"R\"])        \n",
        "    resultLst.insert(0, [resultL, reSplit, \"L\"])\n",
        "               \n",
        "  else:\n",
        "    return labels[0]"
      ],
      "id": "_SpWzjbSgmIL",
      "execution_count": null,
      "outputs": []
    },
    {
      "cell_type": "code",
      "metadata": {
        "id": "Hl8367FnEfAx"
      },
      "source": [
        "def clasificar(x, trainInfo):\n",
        "    # Se generan los diccionarios para extraer los datos\n",
        "    cortes = allCortes(trainInfo)    \n",
        "    hojas = nodosFin(trainInfo)\n",
        "    \n",
        "    # Se ejecuta un metodo iterativo comenzando con la raiz\n",
        "    actual = \"root\"\n",
        "    brazos = [\"L\",\"R\"]\n",
        "    \n",
        "    # Variable de resultado\n",
        "    result = \"\"\n",
        "    \n",
        "    # Se busca con centinela\n",
        "    centi = 1\n",
        "    while centi == 1 :\n",
        "        # Caracteristica para cortar y punto de corte\n",
        "        charCorte = cortes[actual][0]\n",
        "        puntCorte = cortes[actual][1]\n",
        "        \n",
        "        # Se evalua segun la caracteristica y punto de corte\n",
        "        if x[charCorte] <= puntCorte :\n",
        "            actual += brazos[0]\n",
        "        else:\n",
        "            actual += brazos[1]            \n",
        "    \n",
        "        # Se busca si es una hoja final\n",
        "        if actual in hojas:\n",
        "            result = hojas[actual]\n",
        "            centi = 0   # Se sale del loop                \n",
        "        \n",
        "    return result"
      ],
      "id": "Hl8367FnEfAx",
      "execution_count": null,
      "outputs": []
    },
    {
      "cell_type": "code",
      "metadata": {
        "id": "w94ePsw2FJ7Q"
      },
      "source": [
        "def voting(row):\n",
        "  array = np.array(row)\n",
        "  return stats.mode(array)[0][0]"
      ],
      "id": "w94ePsw2FJ7Q",
      "execution_count": null,
      "outputs": []
    },
    {
      "cell_type": "code",
      "metadata": {
        "id": "xzE3Ujp2DxHK"
      },
      "source": [
        "def print_confusion_matrix(y_true, y_pred):\n",
        "  labels=[\"versicolor\", \"virginica\", \"setosa\"]\n",
        "  cm = confusion_matrix(y_true, y_pred, labels = labels, normalize='true')\n",
        "  #cm = cm.astype('float') / cm.sum(axis=1)[:, np.newaxis]\n",
        "\n",
        "  disp = ConfusionMatrixDisplay(confusion_matrix=cm, display_labels=labels)\n",
        "  disp.plot()\n",
        "  plt.show()"
      ],
      "id": "xzE3Ujp2DxHK",
      "execution_count": null,
      "outputs": []
    },
    {
      "cell_type": "markdown",
      "metadata": {
        "id": "uVI7GaXkMD1j"
      },
      "source": [
        "# Experimentos"
      ],
      "id": "uVI7GaXkMD1j"
    },
    {
      "cell_type": "markdown",
      "metadata": {
        "id": "xogtjIXDlr9i"
      },
      "source": [
        "### Análisis con un solo punto de corte en la media"
      ],
      "id": "xogtjIXDlr9i"
    },
    {
      "cell_type": "code",
      "metadata": {
        "id": "FoFnxG-kjcLV",
        "colab": {
          "base_uri": "https://localhost:8080/",
          "height": 128
        },
        "outputId": "30597128-69ae-4505-859a-64492b6fa6e3"
      },
      "source": [
        "tree = []\n",
        "build_tree_mean(train, train.index, tree, method = 'gini')\n",
        "\n",
        "validation_dt_mean = validation.copy()\n",
        "validation_dt_mean['predict'] = validation.apply(lambda row: clasificar(row, tree), axis=1) \n",
        "\n",
        "print(\"Accuracy:\", np.mean(validation_dt_mean.type == validation_dt_mean.predict) * 100)\n",
        "validation_dt_mean[validation_dt_mean.type != validation_dt_mean.predict]"
      ],
      "id": "FoFnxG-kjcLV",
      "execution_count": null,
      "outputs": [
        {
          "output_type": "stream",
          "name": "stdout",
          "text": [
            "Accuracy: 95.55555555555556\n"
          ]
        },
        {
          "output_type": "execute_result",
          "data": {
            "text/html": [
              "<div>\n",
              "<style scoped>\n",
              "    .dataframe tbody tr th:only-of-type {\n",
              "        vertical-align: middle;\n",
              "    }\n",
              "\n",
              "    .dataframe tbody tr th {\n",
              "        vertical-align: top;\n",
              "    }\n",
              "\n",
              "    .dataframe thead th {\n",
              "        text-align: right;\n",
              "    }\n",
              "</style>\n",
              "<table border=\"1\" class=\"dataframe\">\n",
              "  <thead>\n",
              "    <tr style=\"text-align: right;\">\n",
              "      <th></th>\n",
              "      <th>sepal_length</th>\n",
              "      <th>sepal_width</th>\n",
              "      <th>petal_length</th>\n",
              "      <th>petal_width</th>\n",
              "      <th>type</th>\n",
              "      <th>predict</th>\n",
              "    </tr>\n",
              "  </thead>\n",
              "  <tbody>\n",
              "    <tr>\n",
              "      <th>77</th>\n",
              "      <td>6.7</td>\n",
              "      <td>3.0</td>\n",
              "      <td>5.0</td>\n",
              "      <td>1.7</td>\n",
              "      <td>versicolor</td>\n",
              "      <td>virginica</td>\n",
              "    </tr>\n",
              "    <tr>\n",
              "      <th>119</th>\n",
              "      <td>6.0</td>\n",
              "      <td>2.2</td>\n",
              "      <td>5.0</td>\n",
              "      <td>1.5</td>\n",
              "      <td>virginica</td>\n",
              "      <td>versicolor</td>\n",
              "    </tr>\n",
              "  </tbody>\n",
              "</table>\n",
              "</div>"
            ],
            "text/plain": [
              "     sepal_length  sepal_width  ...        type     predict\n",
              "77            6.7          3.0  ...  versicolor   virginica\n",
              "119           6.0          2.2  ...   virginica  versicolor\n",
              "\n",
              "[2 rows x 6 columns]"
            ]
          },
          "metadata": {},
          "execution_count": 209
        }
      ]
    },
    {
      "cell_type": "code",
      "metadata": {
        "colab": {
          "base_uri": "https://localhost:8080/"
        },
        "id": "drqup6OslWSW",
        "outputId": "94b0d7fd-55b2-4555-cb3b-24f3e6dd8906"
      },
      "source": [
        "tree"
      ],
      "id": "drqup6OslWSW",
      "execution_count": null,
      "outputs": [
        {
          "output_type": "execute_result",
          "data": {
            "text/plain": [
              "[['NoIdent', ['root', 'petal_length', 3.739047619047619], 'L'],\n",
              " ['NoIdent', ['root', 'petal_length', 3.739047619047619], 'R'],\n",
              " ['NoIdent', ['rootR', 'petal_width', 1.6], 'L'],\n",
              " ['NoIdent', ['rootR', 'petal_width', 1.6], 'R'],\n",
              " ['NoIdent', ['rootRR', 'petal_length', 4.8], 'L'],\n",
              " ['virginica', ['rootRR', 'petal_length', 4.8], 'R'],\n",
              " ['virginica', ['rootRRL', 'sepal_width', 3.0], 'L'],\n",
              " ['versicolor', ['rootRRL', 'sepal_width', 3.0], 'R'],\n",
              " ['versicolor', ['rootRL', 'petal_length', 4.9], 'L'],\n",
              " ['NoIdent', ['rootRL', 'petal_length', 4.9], 'R'],\n",
              " ['versicolor', ['rootRLR', 'sepal_length', 6.0], 'L'],\n",
              " ['virginica', ['rootRLR', 'sepal_length', 6.0], 'R'],\n",
              " ['setosa', ['rootL', 'petal_length', 1.9], 'L'],\n",
              " ['versicolor', ['rootL', 'petal_length', 1.9], 'R']]"
            ]
          },
          "metadata": {},
          "execution_count": 210
        }
      ]
    },
    {
      "cell_type": "markdown",
      "metadata": {
        "id": "mQdfz7eWmbUJ"
      },
      "source": [
        "### Análisis con todos los puntos de cada característica"
      ],
      "id": "mQdfz7eWmbUJ"
    },
    {
      "cell_type": "code",
      "metadata": {
        "colab": {
          "base_uri": "https://localhost:8080/",
          "height": 128
        },
        "id": "R2kSh7SYml-B",
        "outputId": "bd72928f-139d-40ea-c8d4-d0203d3a2f23"
      },
      "source": [
        "tree = []\n",
        "build_tree(train, train.index, tree, method = 'gini')\n",
        "\n",
        "validation_dt_dots = validation.copy()\n",
        "validation_dt_dots['predict'] = validation.apply(lambda row: clasificar(row, tree), axis=1) \n",
        "\n",
        "print(\"Accuracy:\", np.mean(validation_dt_dots.type == validation_dt_dots.predict) * 100)\n",
        "validation_dt_dots[validation_dt_dots.type != validation_dt_dots.predict]"
      ],
      "id": "R2kSh7SYml-B",
      "execution_count": null,
      "outputs": [
        {
          "output_type": "stream",
          "name": "stdout",
          "text": [
            "Accuracy: 95.55555555555556\n"
          ]
        },
        {
          "output_type": "execute_result",
          "data": {
            "text/html": [
              "<div>\n",
              "<style scoped>\n",
              "    .dataframe tbody tr th:only-of-type {\n",
              "        vertical-align: middle;\n",
              "    }\n",
              "\n",
              "    .dataframe tbody tr th {\n",
              "        vertical-align: top;\n",
              "    }\n",
              "\n",
              "    .dataframe thead th {\n",
              "        text-align: right;\n",
              "    }\n",
              "</style>\n",
              "<table border=\"1\" class=\"dataframe\">\n",
              "  <thead>\n",
              "    <tr style=\"text-align: right;\">\n",
              "      <th></th>\n",
              "      <th>sepal_length</th>\n",
              "      <th>sepal_width</th>\n",
              "      <th>petal_length</th>\n",
              "      <th>petal_width</th>\n",
              "      <th>type</th>\n",
              "      <th>predict</th>\n",
              "    </tr>\n",
              "  </thead>\n",
              "  <tbody>\n",
              "    <tr>\n",
              "      <th>77</th>\n",
              "      <td>6.7</td>\n",
              "      <td>3.0</td>\n",
              "      <td>5.0</td>\n",
              "      <td>1.7</td>\n",
              "      <td>versicolor</td>\n",
              "      <td>virginica</td>\n",
              "    </tr>\n",
              "    <tr>\n",
              "      <th>119</th>\n",
              "      <td>6.0</td>\n",
              "      <td>2.2</td>\n",
              "      <td>5.0</td>\n",
              "      <td>1.5</td>\n",
              "      <td>virginica</td>\n",
              "      <td>versicolor</td>\n",
              "    </tr>\n",
              "  </tbody>\n",
              "</table>\n",
              "</div>"
            ],
            "text/plain": [
              "     sepal_length  sepal_width  ...        type     predict\n",
              "77            6.7          3.0  ...  versicolor   virginica\n",
              "119           6.0          2.2  ...   virginica  versicolor\n",
              "\n",
              "[2 rows x 6 columns]"
            ]
          },
          "metadata": {},
          "execution_count": 211
        }
      ]
    },
    {
      "cell_type": "code",
      "metadata": {
        "id": "ju_7oYW6mvMU",
        "colab": {
          "base_uri": "https://localhost:8080/"
        },
        "outputId": "d1abc74e-3632-42ee-eace-e423f28891c8"
      },
      "source": [
        "tree"
      ],
      "id": "ju_7oYW6mvMU",
      "execution_count": null,
      "outputs": [
        {
          "output_type": "execute_result",
          "data": {
            "text/plain": [
              "[['setosa', ['root', 'petal_length', 1.9], 'L'],\n",
              " ['NoIdent', ['root', 'petal_length', 1.9], 'R'],\n",
              " ['NoIdent', ['rootR', 'petal_width', 1.6], 'L'],\n",
              " ['NoIdent', ['rootR', 'petal_width', 1.6], 'R'],\n",
              " ['NoIdent', ['rootRR', 'petal_length', 4.8], 'L'],\n",
              " ['virginica', ['rootRR', 'petal_length', 4.8], 'R'],\n",
              " ['virginica', ['rootRRL', 'sepal_width', 3.0], 'L'],\n",
              " ['versicolor', ['rootRRL', 'sepal_width', 3.0], 'R'],\n",
              " ['versicolor', ['rootRL', 'petal_length', 4.9], 'L'],\n",
              " ['NoIdent', ['rootRL', 'petal_length', 4.9], 'R'],\n",
              " ['versicolor', ['rootRLR', 'sepal_length', 6.0], 'L'],\n",
              " ['virginica', ['rootRLR', 'sepal_length', 6.0], 'R']]"
            ]
          },
          "metadata": {},
          "execution_count": 212
        }
      ]
    },
    {
      "cell_type": "markdown",
      "metadata": {
        "id": "d_ExZQsnOFbm"
      },
      "source": [
        "## Gini"
      ],
      "id": "d_ExZQsnOFbm"
    },
    {
      "cell_type": "markdown",
      "metadata": {
        "id": "3qNGEku5MGob"
      },
      "source": [
        "### Simple decision tree"
      ],
      "id": "3qNGEku5MGob"
    },
    {
      "cell_type": "code",
      "metadata": {
        "colab": {
          "base_uri": "https://localhost:8080/",
          "height": 128
        },
        "id": "bNUUHo5UMM4a",
        "outputId": "29fc5feb-7038-4323-c360-8252c692d0e8"
      },
      "source": [
        "tree = []\n",
        "build_tree(train, train.index, tree, method = 'gini')\n",
        "\n",
        "validation_dt = validation.copy()\n",
        "validation_dt['predict'] = validation.apply(lambda row: clasificar(row, tree), axis=1) \n",
        "\n",
        "print(\"Accuracy:\", np.mean(validation_dt.type == validation_dt.predict) * 100)\n",
        "validation_dt[validation_dt.type != validation_dt.predict]"
      ],
      "id": "bNUUHo5UMM4a",
      "execution_count": null,
      "outputs": [
        {
          "output_type": "stream",
          "name": "stdout",
          "text": [
            "Accuracy: 95.55555555555556\n"
          ]
        },
        {
          "output_type": "execute_result",
          "data": {
            "text/html": [
              "<div>\n",
              "<style scoped>\n",
              "    .dataframe tbody tr th:only-of-type {\n",
              "        vertical-align: middle;\n",
              "    }\n",
              "\n",
              "    .dataframe tbody tr th {\n",
              "        vertical-align: top;\n",
              "    }\n",
              "\n",
              "    .dataframe thead th {\n",
              "        text-align: right;\n",
              "    }\n",
              "</style>\n",
              "<table border=\"1\" class=\"dataframe\">\n",
              "  <thead>\n",
              "    <tr style=\"text-align: right;\">\n",
              "      <th></th>\n",
              "      <th>sepal_length</th>\n",
              "      <th>sepal_width</th>\n",
              "      <th>petal_length</th>\n",
              "      <th>petal_width</th>\n",
              "      <th>type</th>\n",
              "      <th>predict</th>\n",
              "    </tr>\n",
              "  </thead>\n",
              "  <tbody>\n",
              "    <tr>\n",
              "      <th>77</th>\n",
              "      <td>6.7</td>\n",
              "      <td>3.0</td>\n",
              "      <td>5.0</td>\n",
              "      <td>1.7</td>\n",
              "      <td>versicolor</td>\n",
              "      <td>virginica</td>\n",
              "    </tr>\n",
              "    <tr>\n",
              "      <th>119</th>\n",
              "      <td>6.0</td>\n",
              "      <td>2.2</td>\n",
              "      <td>5.0</td>\n",
              "      <td>1.5</td>\n",
              "      <td>virginica</td>\n",
              "      <td>versicolor</td>\n",
              "    </tr>\n",
              "  </tbody>\n",
              "</table>\n",
              "</div>"
            ],
            "text/plain": [
              "     sepal_length  sepal_width  ...        type     predict\n",
              "77            6.7          3.0  ...  versicolor   virginica\n",
              "119           6.0          2.2  ...   virginica  versicolor\n",
              "\n",
              "[2 rows x 6 columns]"
            ]
          },
          "metadata": {},
          "execution_count": 189
        }
      ]
    },
    {
      "cell_type": "code",
      "metadata": {
        "colab": {
          "base_uri": "https://localhost:8080/",
          "height": 283
        },
        "id": "5880voUYB1Ia",
        "outputId": "3dc0234e-a013-40a2-def3-71bb0268ba53"
      },
      "source": [
        "# Generando la matriz de confución\n",
        "y_true = np.array(validation_dt[\"type\"])\n",
        "y_pred = np.array(validation_dt[\"predict\"])\n",
        "print_confusion_matrix(y_true, y_pred)\n"
      ],
      "id": "5880voUYB1Ia",
      "execution_count": null,
      "outputs": [
        {
          "output_type": "display_data",
          "data": {
            "image/png": "[encoded data removed]",
            "text/plain": [
              "<Figure size 432x288 with 2 Axes>"
            ]
          },
          "metadata": {
            "needs_background": "light"
          }
        }
      ]
    },
    {
      "cell_type": "markdown",
      "metadata": {
        "id": "rC7B_ZaNMpcx"
      },
      "source": [
        "### Bagging"
      ],
      "id": "rC7B_ZaNMpcx"
    },
    {
      "cell_type": "code",
      "metadata": {
        "id": "Hk4mBZWWEj7e"
      },
      "source": [
        "# Implementar Bagging\n",
        "random.seed(10)\n",
        "\n",
        "draws = 5 \n",
        "valididation_bagging = validation.copy()\n",
        "samps = ['new1', 'new2','new3','new4','new5']\n",
        "\n",
        "for ix in range(0,draws):\n",
        "    sample = pd.concat([train.sample(frac=0.5, replace=True, random_state=1), \n",
        "                        train.sample(frac=0.5, replace=True, random_state=1)], \n",
        "                        axis=0)\n",
        "    tree = []\n",
        "    build_tree(sample, sample.index, tree, method = 'gini')\n",
        "    valididation_bagging[samps[ix]] = validation.apply(lambda row: clasificar(row, tree), axis=1) \n",
        "\n",
        "valididation_bagging[\"voting\"] = valididation_bagging[samps].apply(lambda row: voting(row), axis=1) "
      ],
      "id": "Hk4mBZWWEj7e",
      "execution_count": null,
      "outputs": []
    },
    {
      "cell_type": "code",
      "metadata": {
        "colab": {
          "base_uri": "https://localhost:8080/",
          "height": 97
        },
        "id": "C0vaTUhbKDaz",
        "outputId": "a8f14f5b-733b-4345-efac-12decea0b3b8"
      },
      "source": [
        "print(\"Accuracy:\", np.mean(valididation_bagging.type == valididation_bagging.voting) * 100)\n",
        "valididation_bagging[valididation_bagging.type != valididation_bagging.voting]"
      ],
      "id": "C0vaTUhbKDaz",
      "execution_count": null,
      "outputs": [
        {
          "output_type": "stream",
          "name": "stdout",
          "text": [
            "Accuracy: 97.77777777777777\n"
          ]
        },
        {
          "output_type": "execute_result",
          "data": {
            "text/html": [
              "<div>\n",
              "<style scoped>\n",
              "    .dataframe tbody tr th:only-of-type {\n",
              "        vertical-align: middle;\n",
              "    }\n",
              "\n",
              "    .dataframe tbody tr th {\n",
              "        vertical-align: top;\n",
              "    }\n",
              "\n",
              "    .dataframe thead th {\n",
              "        text-align: right;\n",
              "    }\n",
              "</style>\n",
              "<table border=\"1\" class=\"dataframe\">\n",
              "  <thead>\n",
              "    <tr style=\"text-align: right;\">\n",
              "      <th></th>\n",
              "      <th>sepal_length</th>\n",
              "      <th>sepal_width</th>\n",
              "      <th>petal_length</th>\n",
              "      <th>petal_width</th>\n",
              "      <th>type</th>\n",
              "      <th>new1</th>\n",
              "      <th>new2</th>\n",
              "      <th>new3</th>\n",
              "      <th>new4</th>\n",
              "      <th>new5</th>\n",
              "      <th>voting</th>\n",
              "    </tr>\n",
              "  </thead>\n",
              "  <tbody>\n",
              "    <tr>\n",
              "      <th>77</th>\n",
              "      <td>6.7</td>\n",
              "      <td>3.0</td>\n",
              "      <td>5.0</td>\n",
              "      <td>1.7</td>\n",
              "      <td>versicolor</td>\n",
              "      <td>virginica</td>\n",
              "      <td>virginica</td>\n",
              "      <td>virginica</td>\n",
              "      <td>virginica</td>\n",
              "      <td>virginica</td>\n",
              "      <td>virginica</td>\n",
              "    </tr>\n",
              "  </tbody>\n",
              "</table>\n",
              "</div>"
            ],
            "text/plain": [
              "    sepal_length  sepal_width  petal_length  ...       new4       new5     voting\n",
              "77           6.7          3.0           5.0  ...  virginica  virginica  virginica\n",
              "\n",
              "[1 rows x 11 columns]"
            ]
          },
          "metadata": {},
          "execution_count": 192
        }
      ]
    },
    {
      "cell_type": "code",
      "metadata": {
        "colab": {
          "base_uri": "https://localhost:8080/",
          "height": 283
        },
        "id": "JWgYR9yMITWk",
        "outputId": "579b8351-5b7d-472c-e495-e4ff818abd44"
      },
      "source": [
        "# Generando la matriz de confución\n",
        "y_true = np.array(valididation_bagging[\"type\"])\n",
        "y_pred = np.array(valididation_bagging[\"voting\"])\n",
        "print_confusion_matrix(y_true, y_pred)"
      ],
      "id": "JWgYR9yMITWk",
      "execution_count": null,
      "outputs": [
        {
          "output_type": "display_data",
          "data": {
            "image/png": "[encoded data removed]",
            "text/plain": [
              "<Figure size 432x288 with 2 Axes>"
            ]
          },
          "metadata": {
            "needs_background": "light"
          }
        }
      ]
    },
    {
      "cell_type": "markdown",
      "metadata": {
        "id": "NPUFop5VM5hS"
      },
      "source": [
        "### Random Forest"
      ],
      "id": "NPUFop5VM5hS"
    },
    {
      "cell_type": "code",
      "metadata": {
        "id": "9HG1HsfGEq4Y"
      },
      "source": [
        "# Implementar Random-Forest\n",
        "random.seed(100)\n",
        "\n",
        "validation_rf = validation.copy()\n",
        "for ix in range(0,draws) :\n",
        "    sample = pd.concat([train.sample(frac=0.5, replace=True, random_state=1), \n",
        "                        train.sample(frac=0.5, replace=True, random_state=1)], \n",
        "                       axis=0)\n",
        "    # Reduccion de caracteristicas\n",
        "    features = random.sample(list(train.columns)[:-1], k=3)\n",
        "    features.append('type')\n",
        "    sample = sample.loc[:,features]\n",
        "    tree = []\n",
        "    build_tree(sample, sample.index, tree, method = 'gini')\n",
        "    validation_rf[samps[ix]] = validation.apply(lambda row: clasificar(row, tree), axis=1) \n",
        "\n",
        "validation_rf[\"voting\"] = validation_rf[samps].apply(lambda row: voting(row), axis=1) "
      ],
      "id": "9HG1HsfGEq4Y",
      "execution_count": null,
      "outputs": []
    },
    {
      "cell_type": "code",
      "metadata": {
        "colab": {
          "base_uri": "https://localhost:8080/",
          "height": 97
        },
        "id": "TJxw4yMDJ4Sp",
        "outputId": "f5f180ef-c033-4374-bc33-f129bf357f6f"
      },
      "source": [
        "print(\"Accuracy:\", np.mean(validation_rf.type == validation_rf.voting) * 100)\n",
        "validation_rf[validation_rf.type != validation_rf.voting]\n"
      ],
      "id": "TJxw4yMDJ4Sp",
      "execution_count": null,
      "outputs": [
        {
          "output_type": "stream",
          "name": "stdout",
          "text": [
            "Accuracy: 97.77777777777777\n"
          ]
        },
        {
          "output_type": "execute_result",
          "data": {
            "text/html": [
              "<div>\n",
              "<style scoped>\n",
              "    .dataframe tbody tr th:only-of-type {\n",
              "        vertical-align: middle;\n",
              "    }\n",
              "\n",
              "    .dataframe tbody tr th {\n",
              "        vertical-align: top;\n",
              "    }\n",
              "\n",
              "    .dataframe thead th {\n",
              "        text-align: right;\n",
              "    }\n",
              "</style>\n",
              "<table border=\"1\" class=\"dataframe\">\n",
              "  <thead>\n",
              "    <tr style=\"text-align: right;\">\n",
              "      <th></th>\n",
              "      <th>sepal_length</th>\n",
              "      <th>sepal_width</th>\n",
              "      <th>petal_length</th>\n",
              "      <th>petal_width</th>\n",
              "      <th>type</th>\n",
              "      <th>new1</th>\n",
              "      <th>new2</th>\n",
              "      <th>new3</th>\n",
              "      <th>new4</th>\n",
              "      <th>new5</th>\n",
              "      <th>voting</th>\n",
              "    </tr>\n",
              "  </thead>\n",
              "  <tbody>\n",
              "    <tr>\n",
              "      <th>77</th>\n",
              "      <td>6.7</td>\n",
              "      <td>3.0</td>\n",
              "      <td>5.0</td>\n",
              "      <td>1.7</td>\n",
              "      <td>versicolor</td>\n",
              "      <td>virginica</td>\n",
              "      <td>virginica</td>\n",
              "      <td>virginica</td>\n",
              "      <td>virginica</td>\n",
              "      <td>virginica</td>\n",
              "      <td>virginica</td>\n",
              "    </tr>\n",
              "  </tbody>\n",
              "</table>\n",
              "</div>"
            ],
            "text/plain": [
              "    sepal_length  sepal_width  petal_length  ...       new4       new5     voting\n",
              "77           6.7          3.0           5.0  ...  virginica  virginica  virginica\n",
              "\n",
              "[1 rows x 11 columns]"
            ]
          },
          "metadata": {},
          "execution_count": 195
        }
      ]
    },
    {
      "cell_type": "code",
      "metadata": {
        "colab": {
          "base_uri": "https://localhost:8080/",
          "height": 283
        },
        "id": "F9xx9Fx6Idb6",
        "outputId": "47671706-48cf-4708-c555-9f3c4d4c63fb"
      },
      "source": [
        "# Generando la matriz de confución\n",
        "y_true = np.array(validation_rf[\"type\"])\n",
        "y_pred = np.array(validation_rf[\"voting\"])\n",
        "print_confusion_matrix(y_true, y_pred)"
      ],
      "id": "F9xx9Fx6Idb6",
      "execution_count": null,
      "outputs": [
        {
          "output_type": "display_data",
          "data": {
            "image/png": "[encoded data removed]",
            "text/plain": [
              "<Figure size 432x288 with 2 Axes>"
            ]
          },
          "metadata": {
            "needs_background": "light"
          }
        }
      ]
    },
    {
      "cell_type": "markdown",
      "metadata": {
        "id": "SYiKQ5ikOWxW"
      },
      "source": [
        "## Entropy"
      ],
      "id": "SYiKQ5ikOWxW"
    },
    {
      "cell_type": "markdown",
      "metadata": {
        "id": "RTMTel0ZOWxW"
      },
      "source": [
        "### Simple decision tree"
      ],
      "id": "RTMTel0ZOWxW"
    },
    {
      "cell_type": "code",
      "metadata": {
        "colab": {
          "base_uri": "https://localhost:8080/",
          "height": 128
        },
        "id": "0ZkdxlqtOWxX",
        "outputId": "9a70b4fd-eb48-445d-8a4d-8e9ad42921ff"
      },
      "source": [
        "tree = []\n",
        "build_tree(train, train.index, tree, method = 'entropy')\n",
        "\n",
        "validation_dt_e = validation.copy()\n",
        "validation_dt_e['predict'] = validation.apply(lambda row: clasificar(row, tree), axis=1) \n",
        "\n",
        "print(\"Accuracy:\", np.mean(validation_dt_e.type == validation_dt_e.predict) * 100)\n",
        "validation_dt_e[validation_dt_e.type != validation_dt_e.predict]"
      ],
      "id": "0ZkdxlqtOWxX",
      "execution_count": null,
      "outputs": [
        {
          "output_type": "stream",
          "name": "stdout",
          "text": [
            "Accuracy: 95.55555555555556\n"
          ]
        },
        {
          "output_type": "execute_result",
          "data": {
            "text/html": [
              "<div>\n",
              "<style scoped>\n",
              "    .dataframe tbody tr th:only-of-type {\n",
              "        vertical-align: middle;\n",
              "    }\n",
              "\n",
              "    .dataframe tbody tr th {\n",
              "        vertical-align: top;\n",
              "    }\n",
              "\n",
              "    .dataframe thead th {\n",
              "        text-align: right;\n",
              "    }\n",
              "</style>\n",
              "<table border=\"1\" class=\"dataframe\">\n",
              "  <thead>\n",
              "    <tr style=\"text-align: right;\">\n",
              "      <th></th>\n",
              "      <th>sepal_length</th>\n",
              "      <th>sepal_width</th>\n",
              "      <th>petal_length</th>\n",
              "      <th>petal_width</th>\n",
              "      <th>type</th>\n",
              "      <th>predict</th>\n",
              "    </tr>\n",
              "  </thead>\n",
              "  <tbody>\n",
              "    <tr>\n",
              "      <th>77</th>\n",
              "      <td>6.7</td>\n",
              "      <td>3.0</td>\n",
              "      <td>5.0</td>\n",
              "      <td>1.7</td>\n",
              "      <td>versicolor</td>\n",
              "      <td>virginica</td>\n",
              "    </tr>\n",
              "    <tr>\n",
              "      <th>119</th>\n",
              "      <td>6.0</td>\n",
              "      <td>2.2</td>\n",
              "      <td>5.0</td>\n",
              "      <td>1.5</td>\n",
              "      <td>virginica</td>\n",
              "      <td>versicolor</td>\n",
              "    </tr>\n",
              "  </tbody>\n",
              "</table>\n",
              "</div>"
            ],
            "text/plain": [
              "     sepal_length  sepal_width  ...        type     predict\n",
              "77            6.7          3.0  ...  versicolor   virginica\n",
              "119           6.0          2.2  ...   virginica  versicolor\n",
              "\n",
              "[2 rows x 6 columns]"
            ]
          },
          "metadata": {},
          "execution_count": 197
        }
      ]
    },
    {
      "cell_type": "code",
      "metadata": {
        "colab": {
          "base_uri": "https://localhost:8080/",
          "height": 283
        },
        "id": "PJZ8KNDsIh7V",
        "outputId": "8a71826e-4e3e-4258-9761-6c1178eaa7f0"
      },
      "source": [
        "# Generando la matriz de confución\n",
        "y_true = np.array(validation_dt_e[\"type\"])\n",
        "y_pred = np.array(validation_dt_e[\"predict\"])\n",
        "print_confusion_matrix(y_true, y_pred)"
      ],
      "id": "PJZ8KNDsIh7V",
      "execution_count": null,
      "outputs": [
        {
          "output_type": "display_data",
          "data": {
            "image/png": "[encoded data removed]",
            "text/plain": [
              "<Figure size 432x288 with 2 Axes>"
            ]
          },
          "metadata": {
            "needs_background": "light"
          }
        }
      ]
    },
    {
      "cell_type": "markdown",
      "metadata": {
        "id": "aZHH5WcoOWxX"
      },
      "source": [
        "### Bagging"
      ],
      "id": "aZHH5WcoOWxX"
    },
    {
      "cell_type": "code",
      "metadata": {
        "id": "GXmgSLxOOWxX"
      },
      "source": [
        "# Implementar Bagging\n",
        "random.seed(10)\n",
        "\n",
        "draws = 5 \n",
        "perc = 0.6\n",
        "valididation_bagging_e = validation.copy()\n",
        "samps = ['new1', 'new2','new3','new4','new5']\n",
        "\n",
        "for ix in range(0,draws):\n",
        "    sample = pd.concat([train.sample(frac=0.5, replace=True, random_state=1), train.sample(frac=0.5, replace=True, random_state=1)], axis=0)\n",
        "    tree = []\n",
        "    build_tree(sample, sample.index, tree, method = 'entropy')\n",
        "    valididation_bagging_e[samps[ix]] = validation.apply(lambda row: clasificar(row, tree), axis=1) \n",
        "\n",
        "valididation_bagging_e[\"voting\"] = valididation_bagging_e[samps].apply(lambda row: voting(row), axis=1) "
      ],
      "id": "GXmgSLxOOWxX",
      "execution_count": null,
      "outputs": []
    },
    {
      "cell_type": "code",
      "metadata": {
        "colab": {
          "base_uri": "https://localhost:8080/",
          "height": 97
        },
        "id": "cWu9wrumOWxX",
        "outputId": "5c0e67b4-dd06-4c70-c399-17bc3f2efa43"
      },
      "source": [
        "print(\"Accuracy:\", np.mean(valididation_bagging_e.type == valididation_bagging_e.voting) * 100)\n",
        "valididation_bagging_e[valididation_bagging_e.type != valididation_bagging_e.voting]"
      ],
      "id": "cWu9wrumOWxX",
      "execution_count": null,
      "outputs": [
        {
          "output_type": "stream",
          "name": "stdout",
          "text": [
            "Accuracy: 97.77777777777777\n"
          ]
        },
        {
          "output_type": "execute_result",
          "data": {
            "text/html": [
              "<div>\n",
              "<style scoped>\n",
              "    .dataframe tbody tr th:only-of-type {\n",
              "        vertical-align: middle;\n",
              "    }\n",
              "\n",
              "    .dataframe tbody tr th {\n",
              "        vertical-align: top;\n",
              "    }\n",
              "\n",
              "    .dataframe thead th {\n",
              "        text-align: right;\n",
              "    }\n",
              "</style>\n",
              "<table border=\"1\" class=\"dataframe\">\n",
              "  <thead>\n",
              "    <tr style=\"text-align: right;\">\n",
              "      <th></th>\n",
              "      <th>sepal_length</th>\n",
              "      <th>sepal_width</th>\n",
              "      <th>petal_length</th>\n",
              "      <th>petal_width</th>\n",
              "      <th>type</th>\n",
              "      <th>new1</th>\n",
              "      <th>new2</th>\n",
              "      <th>new3</th>\n",
              "      <th>new4</th>\n",
              "      <th>new5</th>\n",
              "      <th>voting</th>\n",
              "    </tr>\n",
              "  </thead>\n",
              "  <tbody>\n",
              "    <tr>\n",
              "      <th>77</th>\n",
              "      <td>6.7</td>\n",
              "      <td>3.0</td>\n",
              "      <td>5.0</td>\n",
              "      <td>1.7</td>\n",
              "      <td>versicolor</td>\n",
              "      <td>virginica</td>\n",
              "      <td>virginica</td>\n",
              "      <td>virginica</td>\n",
              "      <td>virginica</td>\n",
              "      <td>virginica</td>\n",
              "      <td>virginica</td>\n",
              "    </tr>\n",
              "  </tbody>\n",
              "</table>\n",
              "</div>"
            ],
            "text/plain": [
              "    sepal_length  sepal_width  petal_length  ...       new4       new5     voting\n",
              "77           6.7          3.0           5.0  ...  virginica  virginica  virginica\n",
              "\n",
              "[1 rows x 11 columns]"
            ]
          },
          "metadata": {},
          "execution_count": 200
        }
      ]
    },
    {
      "cell_type": "code",
      "metadata": {
        "colab": {
          "base_uri": "https://localhost:8080/",
          "height": 283
        },
        "id": "dk3DouZmJcNN",
        "outputId": "ca841385-5af3-47a8-9466-ef3c0bb536cd"
      },
      "source": [
        "# Generando la matriz de confución\n",
        "y_true = np.array(valididation_bagging_e[\"type\"])\n",
        "y_pred = np.array(valididation_bagging_e[\"voting\"])\n",
        "print_confusion_matrix(y_true, y_pred)"
      ],
      "id": "dk3DouZmJcNN",
      "execution_count": null,
      "outputs": [
        {
          "output_type": "display_data",
          "data": {
            "image/png": "[encoded data removed]",
            "text/plain": [
              "<Figure size 432x288 with 2 Axes>"
            ]
          },
          "metadata": {
            "needs_background": "light"
          }
        }
      ]
    },
    {
      "cell_type": "markdown",
      "metadata": {
        "id": "4QuWthpyOWxX"
      },
      "source": [
        "### Random Forest"
      ],
      "id": "4QuWthpyOWxX"
    },
    {
      "cell_type": "code",
      "metadata": {
        "id": "GMcvc-R1OWxX"
      },
      "source": [
        "# Implementar Random-Forest\n",
        "random.seed(10)\n",
        "\n",
        "validation_rf_e = validation.copy()\n",
        "for ix in range(0,draws) :\n",
        "    sample = pd.concat([train.sample(frac=0.5, replace=True, random_state=1), \n",
        "                        train.sample(frac=0.5, replace=True, random_state=1)], \n",
        "                       axis=0)\n",
        "    # Reduccion de caracteristicas\n",
        "    features = random.sample(list(train.columns)[:-1], k=3)\n",
        "    features.append('type')\n",
        "    sample = sample.loc[:,features]\n",
        "    tree = []\n",
        "    build_tree(sample, sample.index, tree, method = 'entropy')\n",
        "    validation_rf_e[samps[ix]] = validation.apply(lambda row: clasificar(row, tree), axis=1) \n",
        "\n",
        "validation_rf_e[\"voting\"] = validation_rf_e[samps].apply(lambda row: voting(row), axis=1) "
      ],
      "id": "GMcvc-R1OWxX",
      "execution_count": null,
      "outputs": []
    },
    {
      "cell_type": "code",
      "metadata": {
        "colab": {
          "base_uri": "https://localhost:8080/",
          "height": 97
        },
        "id": "rvAA44OcOWxY",
        "outputId": "822da3fc-85b6-481c-a63c-3b8e1edccd88"
      },
      "source": [
        "print(\"Accuracy:\", np.mean(validation_rf_e.type == validation_rf_e.voting) * 100)\n",
        "validation_rf_e[validation_rf_e.type != validation_rf_e.voting]\n"
      ],
      "id": "rvAA44OcOWxY",
      "execution_count": null,
      "outputs": [
        {
          "output_type": "stream",
          "name": "stdout",
          "text": [
            "Accuracy: 97.77777777777777\n"
          ]
        },
        {
          "output_type": "execute_result",
          "data": {
            "text/html": [
              "<div>\n",
              "<style scoped>\n",
              "    .dataframe tbody tr th:only-of-type {\n",
              "        vertical-align: middle;\n",
              "    }\n",
              "\n",
              "    .dataframe tbody tr th {\n",
              "        vertical-align: top;\n",
              "    }\n",
              "\n",
              "    .dataframe thead th {\n",
              "        text-align: right;\n",
              "    }\n",
              "</style>\n",
              "<table border=\"1\" class=\"dataframe\">\n",
              "  <thead>\n",
              "    <tr style=\"text-align: right;\">\n",
              "      <th></th>\n",
              "      <th>sepal_length</th>\n",
              "      <th>sepal_width</th>\n",
              "      <th>petal_length</th>\n",
              "      <th>petal_width</th>\n",
              "      <th>type</th>\n",
              "      <th>new1</th>\n",
              "      <th>new2</th>\n",
              "      <th>new3</th>\n",
              "      <th>new4</th>\n",
              "      <th>new5</th>\n",
              "      <th>voting</th>\n",
              "    </tr>\n",
              "  </thead>\n",
              "  <tbody>\n",
              "    <tr>\n",
              "      <th>77</th>\n",
              "      <td>6.7</td>\n",
              "      <td>3.0</td>\n",
              "      <td>5.0</td>\n",
              "      <td>1.7</td>\n",
              "      <td>versicolor</td>\n",
              "      <td>virginica</td>\n",
              "      <td>virginica</td>\n",
              "      <td>virginica</td>\n",
              "      <td>virginica</td>\n",
              "      <td>virginica</td>\n",
              "      <td>virginica</td>\n",
              "    </tr>\n",
              "  </tbody>\n",
              "</table>\n",
              "</div>"
            ],
            "text/plain": [
              "    sepal_length  sepal_width  petal_length  ...       new4       new5     voting\n",
              "77           6.7          3.0           5.0  ...  virginica  virginica  virginica\n",
              "\n",
              "[1 rows x 11 columns]"
            ]
          },
          "metadata": {},
          "execution_count": 203
        }
      ]
    },
    {
      "cell_type": "code",
      "metadata": {
        "colab": {
          "base_uri": "https://localhost:8080/",
          "height": 283
        },
        "id": "1jzIVl8KJrKC",
        "outputId": "98925166-5ad7-4caf-d4a0-f58bd9c7410a"
      },
      "source": [
        "# Generando la matriz de confución\n",
        "y_true = np.array(validation_rf_e[\"type\"])\n",
        "y_pred = np.array(validation_rf_e[\"voting\"])\n",
        "print_confusion_matrix(y_true, y_pred)"
      ],
      "id": "1jzIVl8KJrKC",
      "execution_count": null,
      "outputs": [
        {
          "output_type": "display_data",
          "data": {
            "image/png": "[encoded data removed]",
            "text/plain": [
              "<Figure size 432x288 with 2 Axes>"
            ]
          },
          "metadata": {
            "needs_background": "light"
          }
        }
      ]
    }
  ]
}